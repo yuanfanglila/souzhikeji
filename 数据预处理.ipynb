{
 "cells": [
  {
   "cell_type": "code",
   "id": "initial_id",
   "metadata": {
    "collapsed": true,
    "ExecuteTime": {
     "end_time": "2024-10-29T08:36:38.126260Z",
     "start_time": "2024-10-29T08:36:35.619514Z"
    }
   },
   "source": [
    "import numpy as np\n",
    "import pandas as pd\n",
    "from sklearn.linear_model import LinearRegression"
   ],
   "outputs": [],
   "execution_count": 3
  },
  {
   "metadata": {
    "ExecuteTime": {
     "end_time": "2024-10-29T08:36:39.107152Z",
     "start_time": "2024-10-29T08:36:38.128262Z"
    }
   },
   "cell_type": "code",
   "source": [
    "data = pd.read_excel('山河四省.xlsx')\n",
    "data = {\n",
    "    'factor_1': data['财政一般预算收入（亿元）'].iloc[60:80],\n",
    "    'target': data['城镇居民人均可支配收入（元）'].iloc[60:80]\n",
    "}\n",
    "df = pd.DataFrame(data)"
   ],
   "id": "7393c418fb127db1",
   "outputs": [],
   "execution_count": 4
  },
  {
   "metadata": {
    "ExecuteTime": {
     "end_time": "2024-10-29T08:36:39.450378Z",
     "start_time": "2024-10-29T08:36:39.108152Z"
    }
   },
   "cell_type": "code",
   "source": [
    "# 分离包含缺失值和不包含缺失值的数据\n",
    "train_data = df[df['target'].notnull()]\n",
    "test_data = df[df['target'].isnull()]\n",
    "\n",
    "# 确保自变量没有缺失值\n",
    "train_data = train_data.dropna(subset=['factor_1'])\n",
    "train_target = train_data['target']\n",
    "\n",
    "# 训练线性回归模型\n",
    "model = LinearRegression()\n",
    "model.fit(train_data[['factor_1']], train_target)\n",
    "\n",
    "# 预测缺失值\n",
    "if not test_data.empty:\n",
    "    # 预测目标列的缺失值\n",
    "    predicted_values = model.predict(test_data[['factor_1']])\n",
    "    \n",
    "    # 将预测值填回原数据\n",
    "    df.loc[df['target'].isnull(), 'target'] = predicted_values\n",
    "\n",
    "print(df['target'].to_string(index=False))"
   ],
   "id": "27168360932bd556",
   "outputs": [
    {
     "name": "stdout",
     "output_type": "stream",
     "text": [
      " 7351.323504\n",
      " 8013.493230\n",
      " 8808.053112\n",
      " 9840.900677\n",
      "11175.822583\n",
      "12247.350845\n",
      "13102.413173\n",
      "15930.260000\n",
      "18194.800000\n",
      "20442.600000\n",
      "21740.700000\n",
      "23672.100000\n",
      "25575.600000\n",
      "27232.920000\n",
      "29557.860000\n",
      "31874.190000\n",
      "34200.970000\n",
      "34750.340000\n",
      "37094.800000\n",
      "38483.740000\n"
     ]
    }
   ],
   "execution_count": 5
  },
  {
   "metadata": {},
   "cell_type": "markdown",
   "source": "### 处理出生率的缺失值",
   "id": "ebd50ad6be67d920"
  },
  {
   "metadata": {
    "ExecuteTime": {
     "end_time": "2024-10-29T08:36:39.609208Z",
     "start_time": "2024-10-29T08:36:39.452381Z"
    }
   },
   "cell_type": "code",
   "source": [
    "data = pd.read_excel('山河四省.xlsx')\n",
    "data_chushenglv = data.iloc[:, -1]\n",
    "data1 = data_chushenglv.interpolate()\n",
    "data1.to_excel('出生率.xlsx')"
   ],
   "id": "639e576ae7614365",
   "outputs": [],
   "execution_count": 6
  },
  {
   "metadata": {},
   "cell_type": "markdown",
   "source": "### 查看数据的基本信息",
   "id": "5c966ca3f20b2b49"
  },
  {
   "metadata": {
    "ExecuteTime": {
     "end_time": "2024-10-29T08:36:39.672401Z",
     "start_time": "2024-10-29T08:36:39.610212Z"
    }
   },
   "cell_type": "code",
   "source": [
    "data = pd.read_excel('山河四省.xlsx')\n",
    "from tabulate import tabulate\n",
    "pd.set_option('display.float_format', '{:.2f}'.format)"
   ],
   "id": "3cc59a39efda9ae8",
   "outputs": [],
   "execution_count": 7
  },
  {
   "metadata": {
    "ExecuteTime": {
     "end_time": "2024-10-29T08:36:41.069408Z",
     "start_time": "2024-10-29T08:36:41.032828Z"
    }
   },
   "cell_type": "code",
   "source": [
    "describe = pd.DataFrame(data.describe()).T\n",
    "describe = describe.rename(columns={'count': '样本量', 'mean': '均值',\n",
    "                                    'std': '标准差', 'min': '最小值',\n",
    "                                    '25%': '第一四分位数', '50%': '中位数',\n",
    "                                    '75%': '第三四分位数', 'max': '最大值'})\n",
    "describe = describe.round(4)"
   ],
   "id": "4e27b9ce8e08f93e",
   "outputs": [],
   "execution_count": 8
  },
  {
   "metadata": {
    "ExecuteTime": {
     "end_time": "2024-10-29T08:38:40.301559Z",
     "start_time": "2024-10-29T08:38:40.284559Z"
    }
   },
   "cell_type": "code",
   "source": [
    "from IPython.display import display\n",
    "\n",
    "display(describe)"
   ],
   "id": "735a78686d469a58",
   "outputs": [
    {
     "data": {
      "text/plain": [
       "                   样本量         均值        标准差       最小值     第一四分位数        中位数  \\\n",
       "时间               80.00    2012.50       5.80   2003.00    2007.75    2012.50   \n",
       "人均地区生产总值（元）      80.00   37836.43   19732.86   7435.00   20547.25   35713.00   \n",
       "就业人员数（万人）        80.00    4062.48    1609.71   1469.47    2976.60    4340.86   \n",
       "财政一般预算收入（亿元）     80.00    2477.68    1828.02    186.05     964.15    2062.30   \n",
       "财政一般预算支出（亿元）     80.00    4708.21    3358.97    330.45    1793.38    4112.23   \n",
       "居民消费价格指数（上年=100） 80.00     102.53       1.65     99.32     101.52     102.10   \n",
       "城镇居民人均可支配收入（元）   80.00   22701.30   11796.26   3930.70   12074.54   22242.45   \n",
       "建成区面积（平方公里）      80.00    2287.65    1323.69    674.95    1268.44    1979.41   \n",
       "国家财政性教育经费（万元）    80.00 9496453.32 6852401.22 849910.20 3518874.92 7602681.72   \n",
       "年末参加生育保险人数（万人）   80.00     592.00     354.73     75.18     334.89     505.10   \n",
       "人口出生率（‰）         80.00      11.36       2.05      6.09      10.82      11.54   \n",
       "\n",
       "                      第三四分位数         最大值  \n",
       "时间                   2017.25     2022.00  \n",
       "人均地区生产总值（元）         50246.17    86003.00  \n",
       "就业人员数（万人）            5542.55     6041.56  \n",
       "财政一般预算收入（亿元）         3570.14     7284.46  \n",
       "财政一般预算支出（亿元）         7246.42    12128.63  \n",
       "居民消费价格指数（上年=100）      103.03      107.19  \n",
       "城镇居民人均可支配收入（元）      32149.94    49049.66  \n",
       "建成区面积（平方公里）          2907.36     5712.99  \n",
       "国家财政性教育经费（万元）    14551795.46 26990467.00  \n",
       "年末参加生育保险人数（万人）        774.12     1646.89  \n",
       "人口出生率（‰）               12.51       17.89  "
      ],
      "text/html": [
       "<div>\n",
       "<style scoped>\n",
       "    .dataframe tbody tr th:only-of-type {\n",
       "        vertical-align: middle;\n",
       "    }\n",
       "\n",
       "    .dataframe tbody tr th {\n",
       "        vertical-align: top;\n",
       "    }\n",
       "\n",
       "    .dataframe thead th {\n",
       "        text-align: right;\n",
       "    }\n",
       "</style>\n",
       "<table border=\"1\" class=\"dataframe\">\n",
       "  <thead>\n",
       "    <tr style=\"text-align: right;\">\n",
       "      <th></th>\n",
       "      <th>样本量</th>\n",
       "      <th>均值</th>\n",
       "      <th>标准差</th>\n",
       "      <th>最小值</th>\n",
       "      <th>第一四分位数</th>\n",
       "      <th>中位数</th>\n",
       "      <th>第三四分位数</th>\n",
       "      <th>最大值</th>\n",
       "    </tr>\n",
       "  </thead>\n",
       "  <tbody>\n",
       "    <tr>\n",
       "      <th>时间</th>\n",
       "      <td>80.00</td>\n",
       "      <td>2012.50</td>\n",
       "      <td>5.80</td>\n",
       "      <td>2003.00</td>\n",
       "      <td>2007.75</td>\n",
       "      <td>2012.50</td>\n",
       "      <td>2017.25</td>\n",
       "      <td>2022.00</td>\n",
       "    </tr>\n",
       "    <tr>\n",
       "      <th>人均地区生产总值（元）</th>\n",
       "      <td>80.00</td>\n",
       "      <td>37836.43</td>\n",
       "      <td>19732.86</td>\n",
       "      <td>7435.00</td>\n",
       "      <td>20547.25</td>\n",
       "      <td>35713.00</td>\n",
       "      <td>50246.17</td>\n",
       "      <td>86003.00</td>\n",
       "    </tr>\n",
       "    <tr>\n",
       "      <th>就业人员数（万人）</th>\n",
       "      <td>80.00</td>\n",
       "      <td>4062.48</td>\n",
       "      <td>1609.71</td>\n",
       "      <td>1469.47</td>\n",
       "      <td>2976.60</td>\n",
       "      <td>4340.86</td>\n",
       "      <td>5542.55</td>\n",
       "      <td>6041.56</td>\n",
       "    </tr>\n",
       "    <tr>\n",
       "      <th>财政一般预算收入（亿元）</th>\n",
       "      <td>80.00</td>\n",
       "      <td>2477.68</td>\n",
       "      <td>1828.02</td>\n",
       "      <td>186.05</td>\n",
       "      <td>964.15</td>\n",
       "      <td>2062.30</td>\n",
       "      <td>3570.14</td>\n",
       "      <td>7284.46</td>\n",
       "    </tr>\n",
       "    <tr>\n",
       "      <th>财政一般预算支出（亿元）</th>\n",
       "      <td>80.00</td>\n",
       "      <td>4708.21</td>\n",
       "      <td>3358.97</td>\n",
       "      <td>330.45</td>\n",
       "      <td>1793.38</td>\n",
       "      <td>4112.23</td>\n",
       "      <td>7246.42</td>\n",
       "      <td>12128.63</td>\n",
       "    </tr>\n",
       "    <tr>\n",
       "      <th>居民消费价格指数（上年=100）</th>\n",
       "      <td>80.00</td>\n",
       "      <td>102.53</td>\n",
       "      <td>1.65</td>\n",
       "      <td>99.32</td>\n",
       "      <td>101.52</td>\n",
       "      <td>102.10</td>\n",
       "      <td>103.03</td>\n",
       "      <td>107.19</td>\n",
       "    </tr>\n",
       "    <tr>\n",
       "      <th>城镇居民人均可支配收入（元）</th>\n",
       "      <td>80.00</td>\n",
       "      <td>22701.30</td>\n",
       "      <td>11796.26</td>\n",
       "      <td>3930.70</td>\n",
       "      <td>12074.54</td>\n",
       "      <td>22242.45</td>\n",
       "      <td>32149.94</td>\n",
       "      <td>49049.66</td>\n",
       "    </tr>\n",
       "    <tr>\n",
       "      <th>建成区面积（平方公里）</th>\n",
       "      <td>80.00</td>\n",
       "      <td>2287.65</td>\n",
       "      <td>1323.69</td>\n",
       "      <td>674.95</td>\n",
       "      <td>1268.44</td>\n",
       "      <td>1979.41</td>\n",
       "      <td>2907.36</td>\n",
       "      <td>5712.99</td>\n",
       "    </tr>\n",
       "    <tr>\n",
       "      <th>国家财政性教育经费（万元）</th>\n",
       "      <td>80.00</td>\n",
       "      <td>9496453.32</td>\n",
       "      <td>6852401.22</td>\n",
       "      <td>849910.20</td>\n",
       "      <td>3518874.92</td>\n",
       "      <td>7602681.72</td>\n",
       "      <td>14551795.46</td>\n",
       "      <td>26990467.00</td>\n",
       "    </tr>\n",
       "    <tr>\n",
       "      <th>年末参加生育保险人数（万人）</th>\n",
       "      <td>80.00</td>\n",
       "      <td>592.00</td>\n",
       "      <td>354.73</td>\n",
       "      <td>75.18</td>\n",
       "      <td>334.89</td>\n",
       "      <td>505.10</td>\n",
       "      <td>774.12</td>\n",
       "      <td>1646.89</td>\n",
       "    </tr>\n",
       "    <tr>\n",
       "      <th>人口出生率（‰）</th>\n",
       "      <td>80.00</td>\n",
       "      <td>11.36</td>\n",
       "      <td>2.05</td>\n",
       "      <td>6.09</td>\n",
       "      <td>10.82</td>\n",
       "      <td>11.54</td>\n",
       "      <td>12.51</td>\n",
       "      <td>17.89</td>\n",
       "    </tr>\n",
       "  </tbody>\n",
       "</table>\n",
       "</div>"
      ]
     },
     "metadata": {},
     "output_type": "display_data"
    }
   ],
   "execution_count": 12
  },
  {
   "metadata": {},
   "cell_type": "code",
   "outputs": [],
   "execution_count": null,
   "source": "",
   "id": "2dfeb25d1e194192"
  }
 ],
 "metadata": {
  "kernelspec": {
   "display_name": "Python 3",
   "language": "python",
   "name": "python3"
  },
  "language_info": {
   "codemirror_mode": {
    "name": "ipython",
    "version": 2
   },
   "file_extension": ".py",
   "mimetype": "text/x-python",
   "name": "python",
   "nbconvert_exporter": "python",
   "pygments_lexer": "ipython2",
   "version": "2.7.6"
  }
 },
 "nbformat": 4,
 "nbformat_minor": 5
}
